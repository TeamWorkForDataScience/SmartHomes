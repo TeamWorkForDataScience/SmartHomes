{
 "cells": [
  {
   "cell_type": "code",
   "execution_count": 1,
   "metadata": {
    "collapsed": true
   },
   "outputs": [],
   "source": [
    "import numpy as np\n",
    "import pandas as pd\n",
    "from pandas import Series, DataFrame\n",
    "import matplotlib.pyplot as plt\n",
    "%matplotlib inline\n",
    "import warnings\n",
    "warnings.filterwarnings('ignore')\n",
    "\n",
    "from bokeh.io import push_notebook, show, output_notebook\n",
    "from bokeh.plotting import figure"
   ]
  },
  {
   "cell_type": "code",
   "execution_count": 2,
   "metadata": {
    "collapsed": true
   },
   "outputs": [],
   "source": [
    "# load data\n",
    "column_headings1=('start','end','name','index')\n",
    "df_pir=pd.read_csv('E:\\\\Bristol\\\\Applied Data Science\\\\data\\\\train\\\\00001\\\\pir.csv',names=column_headings1)\n",
    "\n",
    "df=pd.read_csv('E:\\\\Bristol\\\\Applied Data Science\\\\data\\\\train\\\\00001\\\\location_0.csv')\n",
    "\n",
    "df_acc= pd.read_csv('E:\\\\Bristol\\\\Applied Data Science\\\\data\\\\train\\\\00001\\\\acceleration.csv')"
   ]
  },
  {
   "cell_type": "code",
   "execution_count": 3,
   "metadata": {
    "collapsed": false
   },
   "outputs": [
    {
     "data": {
      "text/html": [
       "<div>\n",
       "<table border=\"1\" class=\"dataframe\">\n",
       "  <thead>\n",
       "    <tr style=\"text-align: right;\">\n",
       "      <th></th>\n",
       "      <th>index</th>\n",
       "      <th>name</th>\n",
       "    </tr>\n",
       "  </thead>\n",
       "  <tbody>\n",
       "    <tr>\n",
       "      <th>00:00:45.930000</th>\n",
       "      <td>3</td>\n",
       "      <td>hall</td>\n",
       "    </tr>\n",
       "    <tr>\n",
       "      <th>00:00:47.130000</th>\n",
       "      <td>3</td>\n",
       "      <td>hall</td>\n",
       "    </tr>\n",
       "    <tr>\n",
       "      <th>00:00:47.330000</th>\n",
       "      <td>5</td>\n",
       "      <td>living</td>\n",
       "    </tr>\n",
       "    <tr>\n",
       "      <th>00:07:05.930000</th>\n",
       "      <td>5</td>\n",
       "      <td>living</td>\n",
       "    </tr>\n",
       "    <tr>\n",
       "      <th>00:07:06.230000</th>\n",
       "      <td>3</td>\n",
       "      <td>hall</td>\n",
       "    </tr>\n",
       "  </tbody>\n",
       "</table>\n",
       "</div>"
      ],
      "text/plain": [
       "                 index    name\n",
       "00:00:45.930000      3    hall\n",
       "00:00:47.130000      3    hall\n",
       "00:00:47.330000      5  living\n",
       "00:07:05.930000      5  living\n",
       "00:07:06.230000      3    hall"
      ]
     },
     "execution_count": 3,
     "metadata": {},
     "output_type": "execute_result"
    }
   ],
   "source": [
    "# convert two columns of time to serial one\n",
    "dfa= pd.concat([df['start'],df['end']])\n",
    "dfb= dfa.to_frame()     # change to dataframe\n",
    "dfb.columns= ['t']\n",
    "dfb['index']= df['index'][dfb.index.values]\n",
    "dfb['name']= df['name'][dfb.index.values]\n",
    "dfb= dfb.sort().reset_index()\n",
    "#dfb\n",
    "del dfb['level_0']\n",
    "dfb['t']= pd.to_timedelta(dfb['t'], unit='s')\n",
    "dfb = dfb.set_index(pd.TimedeltaIndex(dfb['t']))\n",
    "del dfb['t']\n",
    "dfb= dfb.sort()\n",
    "dfb.head()"
   ]
  },
  {
   "cell_type": "code",
   "execution_count": 4,
   "metadata": {
    "collapsed": false
   },
   "outputs": [
    {
     "data": {
      "text/html": [
       "<div>\n",
       "<table border=\"1\" class=\"dataframe\">\n",
       "  <thead>\n",
       "    <tr style=\"text-align: right;\">\n",
       "      <th></th>\n",
       "      <th>level_0</th>\n",
       "      <th>name</th>\n",
       "    </tr>\n",
       "  </thead>\n",
       "  <tbody>\n",
       "    <tr>\n",
       "      <th>00:00:04.608000</th>\n",
       "      <td>0</td>\n",
       "      <td>study</td>\n",
       "    </tr>\n",
       "    <tr>\n",
       "      <th>00:00:06.556000</th>\n",
       "      <td>0</td>\n",
       "      <td>study</td>\n",
       "    </tr>\n",
       "    <tr>\n",
       "      <th>00:00:15.873000</th>\n",
       "      <td>2</td>\n",
       "      <td>study</td>\n",
       "    </tr>\n",
       "    <tr>\n",
       "      <th>00:00:20.657000</th>\n",
       "      <td>1</td>\n",
       "      <td>stairs</td>\n",
       "    </tr>\n",
       "    <tr>\n",
       "      <th>00:00:22.924000</th>\n",
       "      <td>1</td>\n",
       "      <td>stairs</td>\n",
       "    </tr>\n",
       "  </tbody>\n",
       "</table>\n",
       "</div>"
      ],
      "text/plain": [
       "                 level_0    name\n",
       "00:00:04.608000        0   study\n",
       "00:00:06.556000        0   study\n",
       "00:00:15.873000        2   study\n",
       "00:00:20.657000        1  stairs\n",
       "00:00:22.924000        1  stairs"
      ]
     },
     "execution_count": 4,
     "metadata": {},
     "output_type": "execute_result"
    }
   ],
   "source": [
    "df_pira= pd.concat([df_pir['start'],df_pir['end']])\n",
    "df_pirb= df_pira.to_frame()\n",
    "df_pirb.columns= ['t']\n",
    "df_pirb['index']= df_pir['index'][df_pirb.index.values]\n",
    "df_pirb['name']= df_pir['name'][df_pirb.index.values]\n",
    "df_pirb= df_pirb.sort().reset_index()\n",
    "#df_pirb\n",
    "del df_pirb['index']\n",
    "df_pirb['t']= pd.to_timedelta(df_pirb['t'],unit='s')\n",
    "df_pirb= df_pirb.set_index(pd.TimedeltaIndex(df_pirb['t']))\n",
    "#df_pirb\n",
    "del df_pirb['t']\n",
    "df_pirb= df_pirb.sort()\n",
    "df_pirb.head()"
   ]
  },
  {
   "cell_type": "code",
   "execution_count": 5,
   "metadata": {
    "collapsed": false
   },
   "outputs": [
    {
     "data": {
      "text/html": [
       "<div>\n",
       "<table border=\"1\" class=\"dataframe\">\n",
       "  <thead>\n",
       "    <tr style=\"text-align: right;\">\n",
       "      <th></th>\n",
       "      <th>t</th>\n",
       "      <th>x</th>\n",
       "      <th>y</th>\n",
       "      <th>z</th>\n",
       "      <th>Kitchen_AP</th>\n",
       "      <th>Lounge_AP</th>\n",
       "      <th>Upstairs_AP</th>\n",
       "      <th>Study_AP</th>\n",
       "    </tr>\n",
       "  </thead>\n",
       "  <tbody>\n",
       "    <tr>\n",
       "      <th>00:00:00.017856</th>\n",
       "      <td>00:00:00.017856</td>\n",
       "      <td>0.944</td>\n",
       "      <td>-0.280</td>\n",
       "      <td>0.152</td>\n",
       "      <td>-93.0</td>\n",
       "      <td>-95.0</td>\n",
       "      <td>-79.0</td>\n",
       "      <td>NaN</td>\n",
       "    </tr>\n",
       "    <tr>\n",
       "      <th>00:00:00.067904</th>\n",
       "      <td>00:00:00.067904</td>\n",
       "      <td>0.944</td>\n",
       "      <td>-0.292</td>\n",
       "      <td>0.156</td>\n",
       "      <td>-93.0</td>\n",
       "      <td>-95.0</td>\n",
       "      <td>-79.0</td>\n",
       "      <td>NaN</td>\n",
       "    </tr>\n",
       "    <tr>\n",
       "      <th>00:00:00.117952</th>\n",
       "      <td>00:00:00.117952</td>\n",
       "      <td>0.946</td>\n",
       "      <td>-0.286</td>\n",
       "      <td>0.156</td>\n",
       "      <td>-93.0</td>\n",
       "      <td>-95.0</td>\n",
       "      <td>-79.0</td>\n",
       "      <td>NaN</td>\n",
       "    </tr>\n",
       "    <tr>\n",
       "      <th>00:00:00.168000</th>\n",
       "      <td>00:00:00.168000</td>\n",
       "      <td>0.942</td>\n",
       "      <td>-0.288</td>\n",
       "      <td>0.160</td>\n",
       "      <td>-93.0</td>\n",
       "      <td>-95.0</td>\n",
       "      <td>-79.0</td>\n",
       "      <td>NaN</td>\n",
       "    </tr>\n",
       "    <tr>\n",
       "      <th>00:00:00.217856</th>\n",
       "      <td>00:00:00.217856</td>\n",
       "      <td>0.946</td>\n",
       "      <td>-0.286</td>\n",
       "      <td>0.158</td>\n",
       "      <td>-90.0</td>\n",
       "      <td>-89.0</td>\n",
       "      <td>-79.0</td>\n",
       "      <td>NaN</td>\n",
       "    </tr>\n",
       "  </tbody>\n",
       "</table>\n",
       "</div>"
      ],
      "text/plain": [
       "                              t      x      y      z  Kitchen_AP  Lounge_AP  \\\n",
       "00:00:00.017856 00:00:00.017856  0.944 -0.280  0.152       -93.0      -95.0   \n",
       "00:00:00.067904 00:00:00.067904  0.944 -0.292  0.156       -93.0      -95.0   \n",
       "00:00:00.117952 00:00:00.117952  0.946 -0.286  0.156       -93.0      -95.0   \n",
       "00:00:00.168000 00:00:00.168000  0.942 -0.288  0.160       -93.0      -95.0   \n",
       "00:00:00.217856 00:00:00.217856  0.946 -0.286  0.158       -90.0      -89.0   \n",
       "\n",
       "                 Upstairs_AP  Study_AP  \n",
       "00:00:00.017856        -79.0       NaN  \n",
       "00:00:00.067904        -79.0       NaN  \n",
       "00:00:00.117952        -79.0       NaN  \n",
       "00:00:00.168000        -79.0       NaN  \n",
       "00:00:00.217856        -79.0       NaN  "
      ]
     },
     "execution_count": 5,
     "metadata": {},
     "output_type": "execute_result"
    }
   ],
   "source": [
    "df_acca= df_acc.copy()\n",
    "df_acca['t']= pd.to_timedelta(df_acc['t'],unit='s')\n",
    "df_acca= df_acca.set_index(pd.TimedeltaIndex(df_acca['t']))\n",
    "df_acca.head()"
   ]
  },
  {
   "cell_type": "code",
   "execution_count": 6,
   "metadata": {
    "collapsed": false
   },
   "outputs": [
    {
     "data": {
      "text/html": [
       "<div>\n",
       "<table border=\"1\" class=\"dataframe\">\n",
       "  <thead>\n",
       "    <tr style=\"text-align: right;\">\n",
       "      <th></th>\n",
       "      <th>index</th>\n",
       "      <th>name</th>\n",
       "      <th>map_location_index</th>\n",
       "    </tr>\n",
       "  </thead>\n",
       "  <tbody>\n",
       "    <tr>\n",
       "      <th>00:00:45.930000</th>\n",
       "      <td>3</td>\n",
       "      <td>hall</td>\n",
       "      <td>1</td>\n",
       "    </tr>\n",
       "    <tr>\n",
       "      <th>00:00:47.130000</th>\n",
       "      <td>3</td>\n",
       "      <td>hall</td>\n",
       "      <td>1</td>\n",
       "    </tr>\n",
       "    <tr>\n",
       "      <th>00:00:47.330000</th>\n",
       "      <td>5</td>\n",
       "      <td>living</td>\n",
       "      <td>1</td>\n",
       "    </tr>\n",
       "    <tr>\n",
       "      <th>00:07:05.930000</th>\n",
       "      <td>5</td>\n",
       "      <td>living</td>\n",
       "      <td>1</td>\n",
       "    </tr>\n",
       "    <tr>\n",
       "      <th>00:07:06.230000</th>\n",
       "      <td>3</td>\n",
       "      <td>hall</td>\n",
       "      <td>1</td>\n",
       "    </tr>\n",
       "  </tbody>\n",
       "</table>\n",
       "</div>"
      ],
      "text/plain": [
       "                 index    name  map_location_index\n",
       "00:00:45.930000      3    hall                   1\n",
       "00:00:47.130000      3    hall                   1\n",
       "00:00:47.330000      5  living                   1\n",
       "00:07:05.930000      5  living                   1\n",
       "00:07:06.230000      3    hall                   1"
      ]
     },
     "execution_count": 6,
     "metadata": {},
     "output_type": "execute_result"
    }
   ],
   "source": [
    "dfb['map_location_index']= dfb['name'].replace(['bath', 'bed1', 'bed2', 'hall', 'kitchen', 'living', 'stairs', 'study', 'toilet'],[3, 2, 4, 1, 3, 1, 4, 2, 4])\n",
    "dfb.head()"
   ]
  },
  {
   "cell_type": "code",
   "execution_count": 7,
   "metadata": {
    "collapsed": false
   },
   "outputs": [
    {
     "data": {
      "text/html": [
       "<div>\n",
       "<table border=\"1\" class=\"dataframe\">\n",
       "  <thead>\n",
       "    <tr style=\"text-align: right;\">\n",
       "      <th></th>\n",
       "      <th>level_0</th>\n",
       "      <th>name</th>\n",
       "      <th>map_pir_index</th>\n",
       "    </tr>\n",
       "  </thead>\n",
       "  <tbody>\n",
       "    <tr>\n",
       "      <th>00:00:04.608000</th>\n",
       "      <td>0</td>\n",
       "      <td>study</td>\n",
       "      <td>2</td>\n",
       "    </tr>\n",
       "    <tr>\n",
       "      <th>00:00:06.556000</th>\n",
       "      <td>0</td>\n",
       "      <td>study</td>\n",
       "      <td>2</td>\n",
       "    </tr>\n",
       "    <tr>\n",
       "      <th>00:00:15.873000</th>\n",
       "      <td>2</td>\n",
       "      <td>study</td>\n",
       "      <td>2</td>\n",
       "    </tr>\n",
       "    <tr>\n",
       "      <th>00:00:20.657000</th>\n",
       "      <td>1</td>\n",
       "      <td>stairs</td>\n",
       "      <td>4</td>\n",
       "    </tr>\n",
       "    <tr>\n",
       "      <th>00:00:22.924000</th>\n",
       "      <td>1</td>\n",
       "      <td>stairs</td>\n",
       "      <td>4</td>\n",
       "    </tr>\n",
       "  </tbody>\n",
       "</table>\n",
       "</div>"
      ],
      "text/plain": [
       "                 level_0    name  map_pir_index\n",
       "00:00:04.608000        0   study              2\n",
       "00:00:06.556000        0   study              2\n",
       "00:00:15.873000        2   study              2\n",
       "00:00:20.657000        1  stairs              4\n",
       "00:00:22.924000        1  stairs              4"
      ]
     },
     "execution_count": 7,
     "metadata": {},
     "output_type": "execute_result"
    }
   ],
   "source": [
    "df_pirb['map_pir_index']= df_pirb['name'].replace(['bath', 'bed1', 'bed2', 'hall', 'kitchen', 'living', 'stairs', 'study', 'toilet'],[3, 2, 4, 1, 3, 1, 4, 2, 4])\n",
    "df_pirb.head()"
   ]
  },
  {
   "cell_type": "code",
   "execution_count": 8,
   "metadata": {
    "collapsed": false
   },
   "outputs": [
    {
     "data": {
      "text/html": [
       "<div>\n",
       "<table border=\"1\" class=\"dataframe\">\n",
       "  <thead>\n",
       "    <tr style=\"text-align: right;\">\n",
       "      <th></th>\n",
       "      <th>Kitchen_AP</th>\n",
       "      <th>Lounge_AP</th>\n",
       "      <th>Upstairs_AP</th>\n",
       "      <th>Study_AP</th>\n",
       "      <th>plocation</th>\n",
       "    </tr>\n",
       "  </thead>\n",
       "  <tbody>\n",
       "    <tr>\n",
       "      <th>00:00:00.017856</th>\n",
       "      <td>-93.0</td>\n",
       "      <td>-95.0</td>\n",
       "      <td>-79.0</td>\n",
       "      <td>NaN</td>\n",
       "      <td>Upstairs_AP</td>\n",
       "    </tr>\n",
       "    <tr>\n",
       "      <th>00:00:00.067904</th>\n",
       "      <td>-93.0</td>\n",
       "      <td>-95.0</td>\n",
       "      <td>-79.0</td>\n",
       "      <td>NaN</td>\n",
       "      <td>Upstairs_AP</td>\n",
       "    </tr>\n",
       "    <tr>\n",
       "      <th>00:00:00.117952</th>\n",
       "      <td>-93.0</td>\n",
       "      <td>-95.0</td>\n",
       "      <td>-79.0</td>\n",
       "      <td>NaN</td>\n",
       "      <td>Upstairs_AP</td>\n",
       "    </tr>\n",
       "    <tr>\n",
       "      <th>00:00:00.168000</th>\n",
       "      <td>-93.0</td>\n",
       "      <td>-95.0</td>\n",
       "      <td>-79.0</td>\n",
       "      <td>NaN</td>\n",
       "      <td>Upstairs_AP</td>\n",
       "    </tr>\n",
       "    <tr>\n",
       "      <th>00:00:00.217856</th>\n",
       "      <td>-90.0</td>\n",
       "      <td>-89.0</td>\n",
       "      <td>-79.0</td>\n",
       "      <td>NaN</td>\n",
       "      <td>Upstairs_AP</td>\n",
       "    </tr>\n",
       "  </tbody>\n",
       "</table>\n",
       "</div>"
      ],
      "text/plain": [
       "                 Kitchen_AP  Lounge_AP  Upstairs_AP  Study_AP    plocation\n",
       "00:00:00.017856       -93.0      -95.0        -79.0       NaN  Upstairs_AP\n",
       "00:00:00.067904       -93.0      -95.0        -79.0       NaN  Upstairs_AP\n",
       "00:00:00.117952       -93.0      -95.0        -79.0       NaN  Upstairs_AP\n",
       "00:00:00.168000       -93.0      -95.0        -79.0       NaN  Upstairs_AP\n",
       "00:00:00.217856       -90.0      -89.0        -79.0       NaN  Upstairs_AP"
      ]
     },
     "execution_count": 8,
     "metadata": {},
     "output_type": "execute_result"
    }
   ],
   "source": [
    "df_accb= df_acca[['Kitchen_AP','Lounge_AP','Upstairs_AP','Study_AP']]\n",
    "df_accb['plocation']= df_accb.idxmax(axis=1, skipna=True)\n",
    "df_accb.head()"
   ]
  },
  {
   "cell_type": "code",
   "execution_count": 9,
   "metadata": {
    "collapsed": false
   },
   "outputs": [
    {
     "data": {
      "text/html": [
       "<div>\n",
       "<table border=\"1\" class=\"dataframe\">\n",
       "  <thead>\n",
       "    <tr style=\"text-align: right;\">\n",
       "      <th></th>\n",
       "      <th>Kitchen_AP</th>\n",
       "      <th>Lounge_AP</th>\n",
       "      <th>Upstairs_AP</th>\n",
       "      <th>Study_AP</th>\n",
       "      <th>plocation</th>\n",
       "      <th>ilocation</th>\n",
       "    </tr>\n",
       "  </thead>\n",
       "  <tbody>\n",
       "    <tr>\n",
       "      <th>00:00:00.017856</th>\n",
       "      <td>-93.0</td>\n",
       "      <td>-95.0</td>\n",
       "      <td>-79.0</td>\n",
       "      <td>NaN</td>\n",
       "      <td>Upstairs_AP</td>\n",
       "      <td>4</td>\n",
       "    </tr>\n",
       "    <tr>\n",
       "      <th>00:00:00.067904</th>\n",
       "      <td>-93.0</td>\n",
       "      <td>-95.0</td>\n",
       "      <td>-79.0</td>\n",
       "      <td>NaN</td>\n",
       "      <td>Upstairs_AP</td>\n",
       "      <td>4</td>\n",
       "    </tr>\n",
       "    <tr>\n",
       "      <th>00:00:00.117952</th>\n",
       "      <td>-93.0</td>\n",
       "      <td>-95.0</td>\n",
       "      <td>-79.0</td>\n",
       "      <td>NaN</td>\n",
       "      <td>Upstairs_AP</td>\n",
       "      <td>4</td>\n",
       "    </tr>\n",
       "    <tr>\n",
       "      <th>00:00:00.168000</th>\n",
       "      <td>-93.0</td>\n",
       "      <td>-95.0</td>\n",
       "      <td>-79.0</td>\n",
       "      <td>NaN</td>\n",
       "      <td>Upstairs_AP</td>\n",
       "      <td>4</td>\n",
       "    </tr>\n",
       "    <tr>\n",
       "      <th>00:00:00.217856</th>\n",
       "      <td>-90.0</td>\n",
       "      <td>-89.0</td>\n",
       "      <td>-79.0</td>\n",
       "      <td>NaN</td>\n",
       "      <td>Upstairs_AP</td>\n",
       "      <td>4</td>\n",
       "    </tr>\n",
       "  </tbody>\n",
       "</table>\n",
       "</div>"
      ],
      "text/plain": [
       "                 Kitchen_AP  Lounge_AP  Upstairs_AP  Study_AP    plocation  \\\n",
       "00:00:00.017856       -93.0      -95.0        -79.0       NaN  Upstairs_AP   \n",
       "00:00:00.067904       -93.0      -95.0        -79.0       NaN  Upstairs_AP   \n",
       "00:00:00.117952       -93.0      -95.0        -79.0       NaN  Upstairs_AP   \n",
       "00:00:00.168000       -93.0      -95.0        -79.0       NaN  Upstairs_AP   \n",
       "00:00:00.217856       -90.0      -89.0        -79.0       NaN  Upstairs_AP   \n",
       "\n",
       "                 ilocation  \n",
       "00:00:00.017856          4  \n",
       "00:00:00.067904          4  \n",
       "00:00:00.117952          4  \n",
       "00:00:00.168000          4  \n",
       "00:00:00.217856          4  "
      ]
     },
     "execution_count": 9,
     "metadata": {},
     "output_type": "execute_result"
    }
   ],
   "source": [
    "df_accb['ilocation']=df_accb['plocation'].replace(['Kitchen_AP', 'Lounge_AP', 'Upstairs_AP', 'Study_AP'],[3,1,4,2])\n",
    "df_accb.head()"
   ]
  },
  {
   "cell_type": "code",
   "execution_count": 10,
   "metadata": {
    "collapsed": false
   },
   "outputs": [],
   "source": [
    "f = figure(title=\"pir,acceleration,location_0\", plot_height=300, plot_width=900, x_axis_type=\"datetime\")\n",
    "plocation = f.circle(df_accb.index,df_accb['ilocation'], size=3, legend='acceleration') \n",
    "location = f.line(dfb.index,dfb['map_location_index'], color='#DC143C',line_width=2, legend='location_0')\n",
    "pir_location=f.line(df_pirb.index,df_pirb['map_pir_index'],color='#00FA9A',legend='pir')\n",
    "plocation.visible = True\n",
    "location.visible = True\n",
    "pir_location= True\n",
    "show(f)"
   ]
  },
  {
   "cell_type": "code",
   "execution_count": null,
   "metadata": {
    "collapsed": true
   },
   "outputs": [],
   "source": []
  }
 ],
 "metadata": {
  "anaconda-cloud": {},
  "kernelspec": {
   "display_name": "Python [default]",
   "language": "python",
   "name": "python2"
  },
  "language_info": {
   "codemirror_mode": {
    "name": "ipython",
    "version": 2
   },
   "file_extension": ".py",
   "mimetype": "text/x-python",
   "name": "python",
   "nbconvert_exporter": "python",
   "pygments_lexer": "ipython2",
   "version": "2.7.12"
  }
 },
 "nbformat": 4,
 "nbformat_minor": 1
}
