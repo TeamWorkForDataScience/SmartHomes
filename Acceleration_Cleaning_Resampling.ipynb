{
 "cells": [
  {
   "cell_type": "code",
   "execution_count": 4,
   "metadata": {},
   "outputs": [
    {
     "data": {
      "text/html": [
       "\n",
       "    <div class=\"bk-root\">\n",
       "        <a href=\"http://bokeh.pydata.org\" target=\"_blank\" class=\"bk-logo bk-logo-small bk-logo-notebook\"></a>\n",
       "        <span id=\"a561a16c-94e4-4b0f-8931-f1e34adec211\">Loading BokehJS ...</span>\n",
       "    </div>"
      ]
     },
     "metadata": {},
     "output_type": "display_data"
    },
    {
     "data": {
      "application/javascript": [
       "\n",
       "(function(global) {\n",
       "  function now() {\n",
       "    return new Date();\n",
       "  }\n",
       "\n",
       "  var force = true;\n",
       "\n",
       "  if (typeof (window._bokeh_onload_callbacks) === \"undefined\" || force === true) {\n",
       "    window._bokeh_onload_callbacks = [];\n",
       "    window._bokeh_is_loading = undefined;\n",
       "  }\n",
       "\n",
       "\n",
       "  \n",
       "  if (typeof (window._bokeh_timeout) === \"undefined\" || force === true) {\n",
       "    window._bokeh_timeout = Date.now() + 5000;\n",
       "    window._bokeh_failed_load = false;\n",
       "  }\n",
       "\n",
       "  var NB_LOAD_WARNING = {'data': {'text/html':\n",
       "     \"<div style='background-color: #fdd'>\\n\"+\n",
       "     \"<p>\\n\"+\n",
       "     \"BokehJS does not appear to have successfully loaded. If loading BokehJS from CDN, this \\n\"+\n",
       "     \"may be due to a slow or bad network connection. Possible fixes:\\n\"+\n",
       "     \"</p>\\n\"+\n",
       "     \"<ul>\\n\"+\n",
       "     \"<li>re-rerun `output_notebook()` to attempt to load from CDN again, or</li>\\n\"+\n",
       "     \"<li>use INLINE resources instead, as so:</li>\\n\"+\n",
       "     \"</ul>\\n\"+\n",
       "     \"<code>\\n\"+\n",
       "     \"from bokeh.resources import INLINE\\n\"+\n",
       "     \"output_notebook(resources=INLINE)\\n\"+\n",
       "     \"</code>\\n\"+\n",
       "     \"</div>\"}};\n",
       "\n",
       "  function display_loaded() {\n",
       "    if (window.Bokeh !== undefined) {\n",
       "      var el = document.getElementById(\"a561a16c-94e4-4b0f-8931-f1e34adec211\");\n",
       "      el.textContent = \"BokehJS \" + Bokeh.version + \" successfully loaded.\";\n",
       "    } else if (Date.now() < window._bokeh_timeout) {\n",
       "      setTimeout(display_loaded, 100)\n",
       "    }\n",
       "  }\n",
       "\n",
       "  function run_callbacks() {\n",
       "    window._bokeh_onload_callbacks.forEach(function(callback) { callback() });\n",
       "    delete window._bokeh_onload_callbacks\n",
       "    console.info(\"Bokeh: all callbacks have finished\");\n",
       "  }\n",
       "\n",
       "  function load_libs(js_urls, callback) {\n",
       "    window._bokeh_onload_callbacks.push(callback);\n",
       "    if (window._bokeh_is_loading > 0) {\n",
       "      console.log(\"Bokeh: BokehJS is being loaded, scheduling callback at\", now());\n",
       "      return null;\n",
       "    }\n",
       "    if (js_urls == null || js_urls.length === 0) {\n",
       "      run_callbacks();\n",
       "      return null;\n",
       "    }\n",
       "    console.log(\"Bokeh: BokehJS not loaded, scheduling load and callback at\", now());\n",
       "    window._bokeh_is_loading = js_urls.length;\n",
       "    for (var i = 0; i < js_urls.length; i++) {\n",
       "      var url = js_urls[i];\n",
       "      var s = document.createElement('script');\n",
       "      s.src = url;\n",
       "      s.async = false;\n",
       "      s.onreadystatechange = s.onload = function() {\n",
       "        window._bokeh_is_loading--;\n",
       "        if (window._bokeh_is_loading === 0) {\n",
       "          console.log(\"Bokeh: all BokehJS libraries loaded\");\n",
       "          run_callbacks()\n",
       "        }\n",
       "      };\n",
       "      s.onerror = function() {\n",
       "        console.warn(\"failed to load library \" + url);\n",
       "      };\n",
       "      console.log(\"Bokeh: injecting script tag for BokehJS library: \", url);\n",
       "      document.getElementsByTagName(\"head\")[0].appendChild(s);\n",
       "    }\n",
       "  };var element = document.getElementById(\"a561a16c-94e4-4b0f-8931-f1e34adec211\");\n",
       "  if (element == null) {\n",
       "    console.log(\"Bokeh: ERROR: autoload.js configured with elementid 'a561a16c-94e4-4b0f-8931-f1e34adec211' but no matching script tag was found. \")\n",
       "    return false;\n",
       "  }\n",
       "\n",
       "  var js_urls = [\"https://cdn.pydata.org/bokeh/release/bokeh-0.12.5.min.js\", \"https://cdn.pydata.org/bokeh/release/bokeh-widgets-0.12.5.min.js\"];\n",
       "\n",
       "  var inline_js = [\n",
       "    function(Bokeh) {\n",
       "      Bokeh.set_log_level(\"info\");\n",
       "    },\n",
       "    \n",
       "    function(Bokeh) {\n",
       "      \n",
       "    },\n",
       "    \n",
       "    function(Bokeh) {\n",
       "      \n",
       "      document.getElementById(\"a561a16c-94e4-4b0f-8931-f1e34adec211\").textContent = \"BokehJS is loading...\";\n",
       "    },\n",
       "    function(Bokeh) {\n",
       "      console.log(\"Bokeh: injecting CSS: https://cdn.pydata.org/bokeh/release/bokeh-0.12.5.min.css\");\n",
       "      Bokeh.embed.inject_css(\"https://cdn.pydata.org/bokeh/release/bokeh-0.12.5.min.css\");\n",
       "      console.log(\"Bokeh: injecting CSS: https://cdn.pydata.org/bokeh/release/bokeh-widgets-0.12.5.min.css\");\n",
       "      Bokeh.embed.inject_css(\"https://cdn.pydata.org/bokeh/release/bokeh-widgets-0.12.5.min.css\");\n",
       "    }\n",
       "  ];\n",
       "\n",
       "  function run_inline_js() {\n",
       "    \n",
       "    if ((window.Bokeh !== undefined) || (force === true)) {\n",
       "      for (var i = 0; i < inline_js.length; i++) {\n",
       "        inline_js[i](window.Bokeh);\n",
       "      }if (force === true) {\n",
       "        display_loaded();\n",
       "      }} else if (Date.now() < window._bokeh_timeout) {\n",
       "      setTimeout(run_inline_js, 100);\n",
       "    } else if (!window._bokeh_failed_load) {\n",
       "      console.log(\"Bokeh: BokehJS failed to load within specified timeout.\");\n",
       "      window._bokeh_failed_load = true;\n",
       "    } else if (force !== true) {\n",
       "      var cell = $(document.getElementById(\"a561a16c-94e4-4b0f-8931-f1e34adec211\")).parents('.cell').data().cell;\n",
       "      cell.output_area.append_execute_result(NB_LOAD_WARNING)\n",
       "    }\n",
       "\n",
       "  }\n",
       "\n",
       "  if (window._bokeh_is_loading === 0) {\n",
       "    console.log(\"Bokeh: BokehJS loaded, going straight to plotting\");\n",
       "    run_inline_js();\n",
       "  } else {\n",
       "    load_libs(js_urls, function() {\n",
       "      console.log(\"Bokeh: BokehJS plotting callback run at\", now());\n",
       "      run_inline_js();\n",
       "    });\n",
       "  }\n",
       "}(this));"
      ]
     },
     "metadata": {},
     "output_type": "display_data"
    }
   ],
   "source": [
    "# Regular python libraries\n",
    "import matplotlib.pyplot as plt\n",
    "%matplotlib inline\n",
    "from ipywidgets import interact\n",
    "import numpy as np\n",
    "import pandas as pd\n",
    "from pandas import Series, DataFrame\n",
    "\n",
    "# Standar bokeh libraries\n",
    "from bokeh.io import push_notebook, show, output_notebook\n",
    "from bokeh.plotting import figure\n",
    "from bokeh.models import LinearAxis, Range1d  # Handle two y axis\n",
    "from bokeh.models import CheckboxGroup, CustomJS\n",
    "from bokeh.layouts import row, column, widgetbox\n",
    "import warnings\n",
    "warnings.filterwarnings('ignore')\n",
    "output_notebook()"
   ]
  },
  {
   "cell_type": "markdown",
   "metadata": {},
   "source": [
    "## Accelerometer Specifications\n",
    "* Is samplled at 20 Hz - Section 2.1\n",
    "* Participants wore a device with a tri-axial accelerometer\n",
    "* On the dominant wirst\n",
    "* Transmit data using Bluetooth Low Energy\n",
    "* Several AP in within thw house\n",
    "* Outputs are non-continuous numerial readings\n",
    "* Units of g, approximately 9.81 ms^-2\n",
    "* Also signal strength indications are received (RSSI) at 20 Hz\n",
    "* RSSI are recorded by each access point (in dBm).\n",
    "* Accelerometer range +-8g\n",
    "* Minimal of 110 dBm\n",
    "* May be missing packets from the data.\t\n",
    "\n",
    "dBm (sometimes dBmW or decibel-milliwatts) is an abbreviation for the power ratio in decibels (dB) of the measured power referenced to one milliwatt (mW). It is used in radio, microwave and fiber-optical networks as a convenient measure of absolute power because of its capability to express both very large and very small values in a short form. Compare dBW, which is referenced to one watt (1000 mW).\n",
    "\n",
    "* acceleration.csv (available for train and test)\n",
    "\n",
    "* The acceleration file consists of eight columns:\n",
    "   1. t: this is the time of the recording (relative to the start of the sequence)\n",
    "   2. x/y/z: these are the acceleration values recorded on the x/y/z axes of the accelerometer.\n",
    "   3. Kitchen_AP/Lounge_AP/Upstairs_AP/Study_AP: these specify the received signal strength (RSSI) of the acceleration signal as received by the access kitchen/lounge/upstairs access points. Empty values indicate that the access point did not receive the packet.\n",
    "   \n",
    "   \n",
    "http://pandas.pydata.org/pandas-docs/stable/missing_data.html"
   ]
  },
  {
   "cell_type": "code",
   "execution_count": 5,
   "metadata": {
    "collapsed": true
   },
   "outputs": [],
   "source": [
    "acc_min = -8\n",
    "acc_max = 8\n",
    "ap_min = -110\n",
    "ap_max = 0"
   ]
  },
  {
   "cell_type": "code",
   "execution_count": 6,
   "metadata": {},
   "outputs": [],
   "source": [
    "# Read data (from file or DB)\n",
    "df = pd.read_csv('acceleration.csv',#../Dataset/train/00001/acceleration.csv',# skiprows=5, na_values=NaN,\n",
    "    sep=',')\n",
    "#df.head()"
   ]
  },
  {
   "cell_type": "markdown",
   "metadata": {},
   "source": [
    "## Applying Filters"
   ]
  },
  {
   "cell_type": "code",
   "execution_count": 7,
   "metadata": {},
   "outputs": [
    {
     "name": "stdout",
     "output_type": "stream",
     "text": [
      "Same!\n"
     ]
    }
   ],
   "source": [
    "dfa = df.copy()\n",
    "len_before = len(dfa.index)\n",
    "dfz = dfa[((dfa.x > acc_min) < acc_max)][((dfa.y > acc_min) < acc_max)][((dfa.z > acc_min) < acc_max)]\\\n",
    "[((dfa.Kitchen_AP < ap_max) & (dfa.Kitchen_AP > ap_min)) | dfa.Kitchen_AP.isnull()]\\\n",
    "[((dfa.Lounge_AP < ap_max) & (dfa.Lounge_AP > ap_min)) | dfa.Lounge_AP.isnull()]\\\n",
    "[((dfa.Upstairs_AP < ap_max) & (dfa.Upstairs_AP > ap_min)) | dfa.Upstairs_AP.isnull()]\\\n",
    "[((dfa.Study_AP < ap_max) & (dfa.Study_AP > ap_min)) | dfa.Study_AP.isnull()]\\\n",
    "[(dfa.t > 0) & (dfa.t < 30 * 60 * 20)]\n",
    "len_after = len(dfz.index)\n",
    "if len_before != len_after:\n",
    "    print('There were outranged data')\n",
    "else:\n",
    "    print('Same!')\n"
   ]
  },
  {
   "cell_type": "code",
   "execution_count": 8,
   "metadata": {},
   "outputs": [
    {
     "data": {
      "text/html": [
       "<div>\n",
       "<table border=\"1\" class=\"dataframe\">\n",
       "  <thead>\n",
       "    <tr style=\"text-align: right;\">\n",
       "      <th></th>\n",
       "      <th>t</th>\n",
       "      <th>x</th>\n",
       "      <th>y</th>\n",
       "      <th>z</th>\n",
       "      <th>Kitchen_AP</th>\n",
       "      <th>Lounge_AP</th>\n",
       "      <th>Upstairs_AP</th>\n",
       "      <th>Study_AP</th>\n",
       "    </tr>\n",
       "  </thead>\n",
       "  <tbody>\n",
       "    <tr>\n",
       "      <th>0</th>\n",
       "      <td>0.017856</td>\n",
       "      <td>0.944</td>\n",
       "      <td>-0.280</td>\n",
       "      <td>0.152</td>\n",
       "      <td>-93.0</td>\n",
       "      <td>-95.0</td>\n",
       "      <td>-79.0</td>\n",
       "      <td>NaN</td>\n",
       "    </tr>\n",
       "    <tr>\n",
       "      <th>1</th>\n",
       "      <td>0.067904</td>\n",
       "      <td>0.944</td>\n",
       "      <td>-0.292</td>\n",
       "      <td>0.156</td>\n",
       "      <td>-93.0</td>\n",
       "      <td>-95.0</td>\n",
       "      <td>-79.0</td>\n",
       "      <td>NaN</td>\n",
       "    </tr>\n",
       "    <tr>\n",
       "      <th>2</th>\n",
       "      <td>0.117952</td>\n",
       "      <td>0.946</td>\n",
       "      <td>-0.286</td>\n",
       "      <td>0.156</td>\n",
       "      <td>-93.0</td>\n",
       "      <td>-95.0</td>\n",
       "      <td>-79.0</td>\n",
       "      <td>NaN</td>\n",
       "    </tr>\n",
       "    <tr>\n",
       "      <th>3</th>\n",
       "      <td>0.168000</td>\n",
       "      <td>0.942</td>\n",
       "      <td>-0.288</td>\n",
       "      <td>0.160</td>\n",
       "      <td>-93.0</td>\n",
       "      <td>-95.0</td>\n",
       "      <td>-79.0</td>\n",
       "      <td>NaN</td>\n",
       "    </tr>\n",
       "    <tr>\n",
       "      <th>4</th>\n",
       "      <td>0.217856</td>\n",
       "      <td>0.946</td>\n",
       "      <td>-0.286</td>\n",
       "      <td>0.158</td>\n",
       "      <td>-90.0</td>\n",
       "      <td>-89.0</td>\n",
       "      <td>-79.0</td>\n",
       "      <td>NaN</td>\n",
       "    </tr>\n",
       "  </tbody>\n",
       "</table>\n",
       "</div>"
      ],
      "text/plain": [
       "          t      x      y      z  Kitchen_AP  Lounge_AP  Upstairs_AP  Study_AP\n",
       "0  0.017856  0.944 -0.280  0.152       -93.0      -95.0        -79.0       NaN\n",
       "1  0.067904  0.944 -0.292  0.156       -93.0      -95.0        -79.0       NaN\n",
       "2  0.117952  0.946 -0.286  0.156       -93.0      -95.0        -79.0       NaN\n",
       "3  0.168000  0.942 -0.288  0.160       -93.0      -95.0        -79.0       NaN\n",
       "4  0.217856  0.946 -0.286  0.158       -90.0      -89.0        -79.0       NaN"
      ]
     },
     "execution_count": 8,
     "metadata": {},
     "output_type": "execute_result"
    }
   ],
   "source": [
    "dfz.head()"
   ]
  },
  {
   "cell_type": "markdown",
   "metadata": {},
   "source": [
    "## Timedeltas for resampling"
   ]
  },
  {
   "cell_type": "code",
   "execution_count": 9,
   "metadata": {},
   "outputs": [
    {
     "data": {
      "text/plain": [
       "35710"
      ]
     },
     "execution_count": 9,
     "metadata": {},
     "output_type": "execute_result"
    }
   ],
   "source": [
    "# Setting column 't' as timedeltaindex\n",
    "dfb = dfz.copy()\n",
    "dfb['t'] = pd.to_timedelta(dfb['t'],unit='s')\n",
    "dfb = dfb.set_index(pd.TimedeltaIndex(dfb['t']))\n",
    "del dfb['t']\n",
    "len(dfb)"
   ]
  },
  {
   "cell_type": "code",
   "execution_count": 10,
   "metadata": {},
   "outputs": [],
   "source": [
    "#dfb[14830:14857]\n",
    "#dfb.plot()"
   ]
  },
  {
   "cell_type": "markdown",
   "metadata": {},
   "source": [
    "## Resampling"
   ]
  },
  {
   "cell_type": "code",
   "execution_count": 11,
   "metadata": {},
   "outputs": [
    {
     "data": {
      "text/plain": [
       "<matplotlib.axes._subplots.AxesSubplot at 0x7fdd4e9687b8>"
      ]
     },
     "execution_count": 11,
     "metadata": {},
     "output_type": "execute_result"
    },
    {
     "data": {
      "image/png": "[encoded data removed]",
      "text/plain": [
       "<matplotlib.figure.Figure at 0x7fdd7bb7b5f8>"
      ]
     },
     "metadata": {},
     "output_type": "display_data"
    }
   ],
   "source": [
    "sampleps = 20\n",
    "freq = str(int(1000/sampleps))+'L'\n",
    "dfc = dfb.resample(freq).pad()\n",
    "dfb = dfc.copy()\n",
    "len(dfc)\n",
    "dfb.plot( x_compat=True)"
   ]
  }
 ],
 "metadata": {
  "kernelspec": {
   "display_name": "Python 3",
   "language": "python",
   "name": "python3"
  },
  "language_info": {
   "codemirror_mode": {
    "name": "ipython",
    "version": 3
   },
   "file_extension": ".py",
   "mimetype": "text/x-python",
   "name": "python",
   "nbconvert_exporter": "python",
   "pygments_lexer": "ipython3",
   "version": "3.5.3"
  }
 },
 "nbformat": 4,
 "nbformat_minor": 1
}
