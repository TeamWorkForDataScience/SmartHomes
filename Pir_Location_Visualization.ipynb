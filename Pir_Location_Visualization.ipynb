{
 "cells": [
  {
   "cell_type": "code",
   "execution_count": 1,
   "metadata": {
    "collapsed": true
   },
   "outputs": [],
   "source": [
    "import numpy as np\n",
    "import pandas as pd\n",
    "from pandas import Series, DataFrame\n",
    "import matplotlib.pyplot as plt\n",
    "%matplotlib inline\n",
    "import warnings\n",
    "warnings.filterwarnings('ignore')\n",
    "\n",
    "from bokeh.io import push_notebook, show, output_notebook\n",
    "from bokeh.plotting import figure"
   ]
  },
  {
   "cell_type": "code",
   "execution_count": 2,
   "metadata": {
    "collapsed": false
   },
   "outputs": [],
   "source": [
    "# load data\n",
    "column_headings1=('start','end','name','index')\n",
    "df_pir=pd.read_csv('pir.csv',sep=',',names=column_headings1)\n",
    "\n",
    "df=pd.read_csv('location_0.csv', sep=',')"
   ]
  },
  {
   "cell_type": "code",
   "execution_count": 3,
   "metadata": {
    "collapsed": false
   },
   "outputs": [
    {
     "data": {
      "text/html": [
       "<div>\n",
       "<table border=\"1\" class=\"dataframe\">\n",
       "  <thead>\n",
       "    <tr style=\"text-align: right;\">\n",
       "      <th></th>\n",
       "      <th>index</th>\n",
       "      <th>name</th>\n",
       "    </tr>\n",
       "  </thead>\n",
       "  <tbody>\n",
       "    <tr>\n",
       "      <th>00:00:45.930000</th>\n",
       "      <td>3</td>\n",
       "      <td>hall</td>\n",
       "    </tr>\n",
       "    <tr>\n",
       "      <th>00:00:47.130000</th>\n",
       "      <td>3</td>\n",
       "      <td>hall</td>\n",
       "    </tr>\n",
       "    <tr>\n",
       "      <th>00:00:47.330000</th>\n",
       "      <td>5</td>\n",
       "      <td>living</td>\n",
       "    </tr>\n",
       "    <tr>\n",
       "      <th>00:07:05.930000</th>\n",
       "      <td>5</td>\n",
       "      <td>living</td>\n",
       "    </tr>\n",
       "    <tr>\n",
       "      <th>00:07:06.230000</th>\n",
       "      <td>3</td>\n",
       "      <td>hall</td>\n",
       "    </tr>\n",
       "  </tbody>\n",
       "</table>\n",
       "</div>"
      ],
      "text/plain": [
       "                 index    name\n",
       "00:00:45.930000      3    hall\n",
       "00:00:47.130000      3    hall\n",
       "00:00:47.330000      5  living\n",
       "00:07:05.930000      5  living\n",
       "00:07:06.230000      3    hall"
      ]
     },
     "execution_count": 3,
     "metadata": {},
     "output_type": "execute_result"
    }
   ],
   "source": [
    "# convert two columns of time to serial one\n",
    "dfa= pd.concat([df['start'],df['end']])\n",
    "dfb= dfa.to_frame()     # change to dataframe\n",
    "dfb.columns= ['t']\n",
    "dfb['index']= df['index'][dfb.index.values]\n",
    "dfb['name']= df['name'][dfb.index.values]\n",
    "dfb= dfb.sort().reset_index()\n",
    "#dfb\n",
    "del dfb['level_0']\n",
    "dfb['t']= pd.to_timedelta(dfb['t'], unit='s')\n",
    "dfb = dfb.set_index(pd.TimedeltaIndex(dfb['t']))\n",
    "del dfb['t']\n",
    "dfb= dfb.sort()\n",
    "dfb.head()"
   ]
  },
  {
   "cell_type": "code",
   "execution_count": 4,
   "metadata": {
    "collapsed": false
   },
   "outputs": [
    {
     "data": {
      "text/html": [
       "<div>\n",
       "<table border=\"1\" class=\"dataframe\">\n",
       "  <thead>\n",
       "    <tr style=\"text-align: right;\">\n",
       "      <th></th>\n",
       "      <th>index</th>\n",
       "      <th>name</th>\n",
       "    </tr>\n",
       "  </thead>\n",
       "  <tbody>\n",
       "    <tr>\n",
       "      <th>00:00:04.608000</th>\n",
       "      <td>7</td>\n",
       "      <td>study</td>\n",
       "    </tr>\n",
       "    <tr>\n",
       "      <th>00:00:06.556000</th>\n",
       "      <td>7</td>\n",
       "      <td>study</td>\n",
       "    </tr>\n",
       "    <tr>\n",
       "      <th>00:00:15.873000</th>\n",
       "      <td>7</td>\n",
       "      <td>study</td>\n",
       "    </tr>\n",
       "    <tr>\n",
       "      <th>00:00:20.657000</th>\n",
       "      <td>6</td>\n",
       "      <td>stairs</td>\n",
       "    </tr>\n",
       "    <tr>\n",
       "      <th>00:00:22.924000</th>\n",
       "      <td>6</td>\n",
       "      <td>stairs</td>\n",
       "    </tr>\n",
       "  </tbody>\n",
       "</table>\n",
       "</div>"
      ],
      "text/plain": [
       "                 index    name\n",
       "00:00:04.608000      7   study\n",
       "00:00:06.556000      7   study\n",
       "00:00:15.873000      7   study\n",
       "00:00:20.657000      6  stairs\n",
       "00:00:22.924000      6  stairs"
      ]
     },
     "execution_count": 4,
     "metadata": {},
     "output_type": "execute_result"
    }
   ],
   "source": [
    "df_pira= pd.concat([df_pir['start'],df_pir['end']])\n",
    "df_pirb= df_pira.to_frame()\n",
    "df_pirb.columns= ['t']\n",
    "df_pirb['index']= df_pir['index'][df_pirb.index.values]\n",
    "df_pirb['name']= df_pir['name'][df_pirb.index.values]\n",
    "df_pirb= df_pirb.sort().reset_index()\n",
    "#df_pirb\n",
    "del df_pirb['level_0']\n",
    "df_pirb['t']= pd.to_timedelta(df_pirb['t'],unit='s')\n",
    "df_pirb= df_pirb.set_index(pd.TimedeltaIndex(df_pirb['t']))\n",
    "#df_pirb\n",
    "del df_pirb['t']\n",
    "df_pirb= df_pirb.sort()\n",
    "df_pirb.head()"
   ]
  },
  {
   "cell_type": "code",
   "execution_count": 6,
   "metadata": {
    "collapsed": false
   },
   "outputs": [],
   "source": [
    "f = figure(title=\"pir and location_0\", plot_height=300, plot_width=900, x_axis_type=\"datetime\")\n",
    "location = f.line(dfb.index,dfb['index'], color='#DC143C',line_width=2, legend='location_0')\n",
    "pir_location=f.line(df_pirb.index,df_pirb['index'],color='#00FA9A',legend='pir')\n",
    "location.visible = True\n",
    "pir_location= True\n",
    "show(f)"
   ]
  },
  {
   "cell_type": "code",
   "execution_count": null,
   "metadata": {
    "collapsed": true
   },
   "outputs": [],
   "source": []
  }
 ],
 "metadata": {
  "anaconda-cloud": {},
  "kernelspec": {
   "display_name": "Python [default]",
   "language": "python",
   "name": "python2"
  },
  "language_info": {
   "codemirror_mode": {
    "name": "ipython",
    "version": 2
   },
   "file_extension": ".py",
   "mimetype": "text/x-python",
   "name": "python",
   "nbconvert_exporter": "python",
   "pygments_lexer": "ipython2",
   "version": "2.7.12"
  }
 },
 "nbformat": 4,
 "nbformat_minor": 1
}
